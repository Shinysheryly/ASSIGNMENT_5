{
 "cells": [
  {
   "cell_type": "code",
   "execution_count": 48,
   "id": "1f9221a9",
   "metadata": {},
   "outputs": [],
   "source": [
    "import numpy as np\n",
    "import pandas as pd\n",
    "df = pd.read_csv(\"glass.csv\")"
   ]
  },
  {
   "cell_type": "markdown",
   "id": "5fe4b9ef",
   "metadata": {},
   "source": [
    "I have imported Pandas Library as pd and read the data from \"glass.csv\"and stored it in data frame named df"
   ]
  },
  {
   "cell_type": "code",
   "execution_count": 52,
   "id": "d72b5eab",
   "metadata": {},
   "outputs": [
    {
     "name": "stdout",
     "output_type": "stream",
     "text": [
      "(149, 9)\n",
      "(65, 9)\n",
      "(65,)\n",
      "(149,)\n"
     ]
    }
   ],
   "source": [
    "X = df.iloc[:,:-1]\n",
    "y= df.iloc[:,-1]\n",
    "from sklearn.model_selection import train_test_split\n",
    "from sklearn.svm import SVC\n",
    "#from sklearn.naive_bayes import GaussianNB\n",
    "from sklearn.metrics import classification_report,accuracy_score\n",
    "\n",
    "\n",
    "#X_train,X_test,y_train,t_test = (X, y, test_size=0.3, random_state = 5)\n",
    "\n",
    "\n",
    "X_train, X_test, y_train, y_test = train_test_split(X,y, test_size=0.3,random_state =3 )\n",
    "\n",
    "print(X_train.shape)\n",
    "print(X_test.shape)\n",
    "print(y_test.shape)\n",
    "print(y_train.shape)"
   ]
  },
  {
   "cell_type": "markdown",
   "id": "47018434",
   "metadata": {},
   "source": [
    "Arrays of input and output are created as X and Y. Scikit-learn is used to divide the test and train data. To divide that we will need to import the train_test_split function from the model_selection module of scikit_learn library.The test size is given as 30 percent of the data. The random state is given as 0."
   ]
  },
  {
   "cell_type": "code",
   "execution_count": 54,
   "id": "9d2f44c1",
   "metadata": {},
   "outputs": [
    {
     "name": "stdout",
     "output_type": "stream",
     "text": [
      "accuracy= 69.12751677852349\n",
      "              precision    recall  f1-score   support\n",
      "\n",
      "           1       0.71      0.81      0.76        21\n",
      "           2       0.55      0.60      0.57        20\n",
      "           3       0.00      0.00      0.00         5\n",
      "           5       0.50      0.40      0.44         5\n",
      "           6       0.00      0.00      0.00         2\n",
      "           7       0.83      0.83      0.83        12\n",
      "\n",
      "    accuracy                           0.63        65\n",
      "   macro avg       0.43      0.44      0.43        65\n",
      "weighted avg       0.59      0.63      0.61        65\n",
      "\n"
     ]
    },
    {
     "name": "stderr",
     "output_type": "stream",
     "text": [
      "C:\\Users\\shiny\\anaconda3\\lib\\site-packages\\sklearn\\metrics\\_classification.py:1318: UndefinedMetricWarning: Precision and F-score are ill-defined and being set to 0.0 in labels with no predicted samples. Use `zero_division` parameter to control this behavior.\n",
      "  _warn_prf(average, modifier, msg_start, len(result))\n",
      "C:\\Users\\shiny\\anaconda3\\lib\\site-packages\\sklearn\\metrics\\_classification.py:1318: UndefinedMetricWarning: Precision and F-score are ill-defined and being set to 0.0 in labels with no predicted samples. Use `zero_division` parameter to control this behavior.\n",
      "  _warn_prf(average, modifier, msg_start, len(result))\n",
      "C:\\Users\\shiny\\anaconda3\\lib\\site-packages\\sklearn\\metrics\\_classification.py:1318: UndefinedMetricWarning: Precision and F-score are ill-defined and being set to 0.0 in labels with no predicted samples. Use `zero_division` parameter to control this behavior.\n",
      "  _warn_prf(average, modifier, msg_start, len(result))\n"
     ]
    }
   ],
   "source": [
    "svm = SVC(kernel = 'linear')\n",
    "svm.fit(X_train, y_train)\n",
    "y_pred = svm.predict(X_test)\n",
    "print(\"accuracy=\",svm.score(X_train, y_train) * 100)\n",
    "print(classification_report(y_test,y_pred))"
   ]
  },
  {
   "cell_type": "markdown",
   "id": "71dd55a0",
   "metadata": {},
   "source": [
    "Imported classification report from metrics of the sklearn library and found the accuracy of the model. The Accuracy I got for this model is 69.0 with test size(30) and random state(3).\n",
    "\n",
    "The performance of Support Vector Classifier of SVM model is better compared to GaussianNB classifier of Naive Bayes model. SVM is Geometric in nature where as Naive Bayes is Probabilistic in nature. And in SVM we have given a specific kernel as linear so it divides the data as a hyperplane which helps to predict the accurate output values."
   ]
  },
  {
   "cell_type": "code",
   "execution_count": null,
   "id": "d6b51cf4",
   "metadata": {},
   "outputs": [],
   "source": []
  }
 ],
 "metadata": {
  "kernelspec": {
   "display_name": "Python 3 (ipykernel)",
   "language": "python",
   "name": "python3"
  },
  "language_info": {
   "codemirror_mode": {
    "name": "ipython",
    "version": 3
   },
   "file_extension": ".py",
   "mimetype": "text/x-python",
   "name": "python",
   "nbconvert_exporter": "python",
   "pygments_lexer": "ipython3",
   "version": "3.9.13"
  }
 },
 "nbformat": 4,
 "nbformat_minor": 5
}
